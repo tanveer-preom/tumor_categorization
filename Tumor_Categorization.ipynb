{
 "metadata": {
  "name": ""
 },
 "nbformat": 3,
 "nbformat_minor": 0,
 "worksheets": [
  {
   "cells": [
    {
     "cell_type": "code",
     "collapsed": false,
     "input": [
      "import numpy as np\n",
      "import matplotlib.pyplot as plt\n",
      "from sklearn import svm, datasets\n",
      "# import some data to play with\n",
      "inpfile = open('/home/tanveer/Ml_project/dataset.txt','r')\n",
      "#print(iris)\n",
      "X = []\n",
      "y = []\n",
      "for line in inpfile:\n",
      "    attributes = line.split(',')\n",
      "    tests = []\n",
      "    for j in range(1,len(attributes)):\n",
      "        if j==3 or j == 4:\n",
      "            continue\n",
      "        if attributes[j] == '?':\n",
      "            attributes[j] = '-99999'\n",
      "        \n",
      "        if j == len(attributes) -1:\n",
      "            y.append(int(attributes[j]))\n",
      "        else:\n",
      "            tests.append(int(attributes[j]))\n",
      "    X.append(tests)\n",
      "        \n",
      "\n",
      "# we create an instance of SVM and fit out data. We do not scale our\n",
      "# data since we want to plot the support vectors\n",
      "C = 1.0 # SVM regularization parameter\n",
      "svc = svm.SVC(kernel='rbf',gamma=(200.0/700)).fit(X, y)\n",
      "testCases = open('/home/tanveer/Ml_project/sample.txt','r')\n",
      "X_test = []\n",
      "y_test= []\n",
      "for line in testCases:\n",
      "    attributes = line.split(',')\n",
      "    tests = []\n",
      "    for j in range(1,len(attributes)):\n",
      "        if j==3 or j == 4:\n",
      "            continue\n",
      "        if attributes[j] == '?':\n",
      "            attributes[j] = '-99999'\n",
      "        \n",
      "        if j == len(attributes) -1:\n",
      "            y_test.append(int(attributes[j]))\n",
      "        else:\n",
      "            tests.append(int(attributes[j]))\n",
      "    X_test.append(tests)\n",
      "confidence = svc.score(X_test, y_test)\n",
      "print(confidence)    \n",
      "\n",
      "    \n",
      "\n",
      "Z = svc.predict([[52,4],[47,2],[56,4],[64,4],[62,3]])\n",
      "print(Z)"
     ],
     "language": "python",
     "metadata": {},
     "outputs": [
      {
       "output_type": "stream",
       "stream": "stdout",
       "text": [
        "0.825892857143\n",
        "[1 0 1 1 0]\n"
       ]
      }
     ],
     "prompt_number": 101
    },
    {
     "cell_type": "code",
     "collapsed": false,
     "input": [
      "import numpy as np\n",
      "import matplotlib.pyplot as plt\n",
      "from sklearn import svm, datasets\n",
      "from sklearn.neural_network import MLPClassifier\n",
      "from sklearn.preprocessing import StandardScaler\n",
      "# import some data to play with\n",
      "scaler = StandardScaler()\n",
      "inpfile = open('/home/tanveer/Ml_project/dataset_ann.txt','r')\n",
      "#print(iris)\n",
      "X = []\n",
      "y = []\n",
      "for line in inpfile:\n",
      "    attributes = line.split(',')\n",
      "    tests = []\n",
      "    for j in range(1,len(attributes)):\n",
      "        if j==3 or j == 4:\n",
      "            continue\n",
      "        if attributes[j] == '?':\n",
      "            attributes[j] = '-99999'\n",
      "        \n",
      "        if j == len(attributes) -1:\n",
      "            y.append(int(attributes[j]))\n",
      "        else:\n",
      "            tests.append(int(attributes[j]))\n",
      "    X.append(tests)\n",
      "        \n",
      "#scaler.fit(X)\n",
      "#X = scaler.transform(X)\n",
      "# we create an instance of SVM and fit out data. We do not scale our\n",
      "# data since we want to plot the support vectors\n",
      "mlp = MLPClassifier(hidden_layer_sizes=(3,5), random_state=5, max_iter=500, warm_start=True)\n",
      "mlp.fit(X,y)\n",
      "testCases = open('/home/tanveer/Ml_project/sample_ann.txt','r')\n",
      "X_test = []\n",
      "y_test= []\n",
      "for line in testCases:\n",
      "    attributes = line.split(',')\n",
      "    tests = []\n",
      "    for j in range(1,len(attributes)):\n",
      "        if j==3 or j == 4:\n",
      "            continue\n",
      "        if attributes[j] == '?':\n",
      "            attributes[j] = '-99999'\n",
      "        \n",
      "        if j == len(attributes) -1:\n",
      "            y_test.append(int(attributes[j]))\n",
      "        else:\n",
      "            tests.append(int(attributes[j]))\n",
      "    X_test.append(tests)\n",
      "confidence = mlp.score(X_test, y_test)\n",
      "print(confidence)    \n",
      "\n",
      "    \n",
      "\n",
      "Z = mlp.predict([[52,4],[47,2],[56,4],[64,4],[62,3]])\n",
      "print(Z)"
     ],
     "language": "python",
     "metadata": {},
     "outputs": [
      {
       "output_type": "stream",
       "stream": "stdout",
       "text": [
        "0.90625\n",
        "[1 0 1 1 1]\n"
       ]
      }
     ],
     "prompt_number": 1
    },
    {
     "cell_type": "code",
     "collapsed": false,
     "input": [],
     "language": "python",
     "metadata": {},
     "outputs": [],
     "prompt_number": 104
    },
    {
     "cell_type": "code",
     "collapsed": false,
     "input": [],
     "language": "python",
     "metadata": {},
     "outputs": []
    }
   ],
   "metadata": {}
  }
 ]
}